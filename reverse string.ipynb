{
 "cells": [
  {
   "cell_type": "code",
   "execution_count": 3,
   "id": "0993eb16",
   "metadata": {},
   "outputs": [
    {
     "name": "stdout",
     "output_type": "stream",
     "text": [
      "enter the input word\n",
      "Sample Test Case\n",
      "the given string is:Sample Test Case\n",
      "the reverse string is:esaC tseT elpmaS\n"
     ]
    }
   ],
   "source": [
    "#to reverse a string\n",
    "def reverse(s):\n",
    "    str = \"\"\n",
    "    for i in s:\n",
    "        str = i + str\n",
    "    return str\n",
    "\n",
    "print(\"enter the input word\")\n",
    "word = input()\n",
    "\n",
    "print(\"the given string is:\", end =\"\")\n",
    "print(word)\n",
    "\n",
    "print(\"the reverse string is:\",end =\"\")\n",
    "print(reverse(word))"
   ]
  },
  {
   "cell_type": "code",
   "execution_count": null,
   "id": "80076573",
   "metadata": {},
   "outputs": [],
   "source": []
  }
 ],
 "metadata": {
  "kernelspec": {
   "display_name": "Python 3 (ipykernel)",
   "language": "python",
   "name": "python3"
  },
  "language_info": {
   "codemirror_mode": {
    "name": "ipython",
    "version": 3
   },
   "file_extension": ".py",
   "mimetype": "text/x-python",
   "name": "python",
   "nbconvert_exporter": "python",
   "pygments_lexer": "ipython3",
   "version": "3.10.0"
  }
 },
 "nbformat": 4,
 "nbformat_minor": 5
}
